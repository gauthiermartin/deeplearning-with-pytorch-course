{
  "nbformat": 4,
  "nbformat_minor": 0,
  "metadata": {
    "colab": {
      "provenance": [],
      "toc_visible": true,
      "gpuType": "T4",
      "authorship_tag": "ABX9TyN3wem4eX3+U5oN1O6MjrKk",
      "include_colab_link": true
    },
    "kernelspec": {
      "name": "python3",
      "display_name": "Python 3"
    },
    "language_info": {
      "name": "python"
    },
    "accelerator": "GPU"
  },
  "cells": [
    {
      "cell_type": "markdown",
      "metadata": {
        "id": "view-in-github",
        "colab_type": "text"
      },
      "source": [
        "<a href=\"https://colab.research.google.com/github/gauthiermartin/pytorch-deep-learning-course/blob/main/01_pytorch_workflow_fundamentals.ipynb\" target=\"_parent\"><img src=\"https://colab.research.google.com/assets/colab-badge.svg\" alt=\"Open In Colab\"/></a>"
      ]
    },
    {
      "cell_type": "markdown",
      "source": [
        "#PyTorch Workflow\n",
        "\n",
        "Let's explore an example PyTorch end-to-end workflow\n",
        "\n",
        "Resources :\n",
        "* Ground truth notebook - https://github.com/mrdbourke/pytorch-deep-learning/blob/main/01_pytorch_workflow.ipynb\n",
        "* Book version of the notebook - https://www.learnpytorch.io/01_pytorch_workflow/"
      ],
      "metadata": {
        "id": "xOZ_CVGJXFU5"
      }
    },
    {
      "cell_type": "code",
      "source": [
        "what_are_we_covering = {\n",
        "    1: \"data (prepare and load)\",\n",
        "    2: \"build model\",\n",
        "    3: \"fitting or model to the data (training)\",\n",
        "    4: \"making predictions and evaluating a model (inference)\",\n",
        "    5: \"save an load a model\",\n",
        "    6 : \"putting it all together\",\n",
        "}\n",
        "\n",
        "what_are_we_covering"
      ],
      "metadata": {
        "colab": {
          "base_uri": "https://localhost:8080/"
        },
        "id": "53HAUKsNXNzI",
        "outputId": "74b1f0b0-f84f-4daa-f96a-ce1034c8ca93"
      },
      "execution_count": 1,
      "outputs": [
        {
          "output_type": "execute_result",
          "data": {
            "text/plain": [
              "{1: 'data (prepare and load)',\n",
              " 2: 'build model',\n",
              " 3: 'fitting or model to the data (training)',\n",
              " 4: 'making predictions and evaluating a model (inference)',\n",
              " 5: 'save an load a model',\n",
              " 6: 'putting it all together'}"
            ]
          },
          "metadata": {},
          "execution_count": 1
        }
      ]
    },
    {
      "cell_type": "code",
      "source": [
        "import torch\n",
        "from tqdm import tqdm\n",
        "import numpy as np\n",
        "from torch import nn #nn contains all of PyTorch's building blocks for neural networks\n",
        "import matplotlib.pyplot as plt\n",
        "\n",
        "# Check PyTorch version\n",
        "torch.__version__"
      ],
      "metadata": {
        "colab": {
          "base_uri": "https://localhost:8080/",
          "height": 35
        },
        "id": "o03jSkpUZYH7",
        "outputId": "2edfcf70-4008-41ca-e1e6-dc442fa70c75"
      },
      "execution_count": 2,
      "outputs": [
        {
          "output_type": "execute_result",
          "data": {
            "text/plain": [
              "'2.0.1+cu118'"
            ],
            "application/vnd.google.colaboratory.intrinsic+json": {
              "type": "string"
            }
          },
          "metadata": {},
          "execution_count": 2
        }
      ]
    },
    {
      "cell_type": "markdown",
      "source": [
        "## 1.Data (preparing and loading)\n",
        "\n",
        "Data can be almost anything ... in machine learning\n",
        "\n",
        "* Excel spreadsheet\n",
        "* Image of any type\n",
        "* Video\n",
        "* Audio\n",
        "* DNA\n",
        "* Text\n",
        "\n",
        "Machine Learning is a game of two parts:\n",
        "1. Get data into a numerical representation.\n",
        "2. Build a model to learn patterns in that numerical representation.\n",
        "\n",
        "To showcase this let's create some *known* data using linear regression formula (y=mx+b)\n",
        "\n",
        "Well use a linear regression formula to make a straight line with known **parameters**\n"
      ],
      "metadata": {
        "id": "D9IBjm-baF35"
      }
    },
    {
      "cell_type": "code",
      "source": [
        "# Create *known* parameteres y = mx + b\n",
        "\n",
        "weight = 0.7 #  weight => m\n",
        "bias = 0.3   #  bias => b\n",
        "\n",
        "# Create\n",
        "start = 0\n",
        "end = 1\n",
        "step = 0.02\n",
        "\n",
        "X = torch.arange(start, end, step).unsqueeze(dim=1) # X is capital => a tensor\n",
        "y = weight * X + bias\n",
        "\n",
        "X[:10], y[:10]"
      ],
      "metadata": {
        "colab": {
          "base_uri": "https://localhost:8080/"
        },
        "id": "jJYJ5Cxj94ol",
        "outputId": "0d52bb44-e371-41a7-8428-72232606e9b0"
      },
      "execution_count": 3,
      "outputs": [
        {
          "output_type": "execute_result",
          "data": {
            "text/plain": [
              "(tensor([[0.0000],\n",
              "         [0.0200],\n",
              "         [0.0400],\n",
              "         [0.0600],\n",
              "         [0.0800],\n",
              "         [0.1000],\n",
              "         [0.1200],\n",
              "         [0.1400],\n",
              "         [0.1600],\n",
              "         [0.1800]]),\n",
              " tensor([[0.3000],\n",
              "         [0.3140],\n",
              "         [0.3280],\n",
              "         [0.3420],\n",
              "         [0.3560],\n",
              "         [0.3700],\n",
              "         [0.3840],\n",
              "         [0.3980],\n",
              "         [0.4120],\n",
              "         [0.4260]]))"
            ]
          },
          "metadata": {},
          "execution_count": 3
        }
      ]
    },
    {
      "cell_type": "code",
      "source": [
        "len(X), len(y)"
      ],
      "metadata": {
        "colab": {
          "base_uri": "https://localhost:8080/"
        },
        "id": "W9Mn439Vas-R",
        "outputId": "745017f1-4cb3-46cb-c1da-7c9cb72b78b3"
      },
      "execution_count": 4,
      "outputs": [
        {
          "output_type": "execute_result",
          "data": {
            "text/plain": [
              "(50, 50)"
            ]
          },
          "metadata": {},
          "execution_count": 4
        }
      ]
    },
    {
      "cell_type": "markdown",
      "source": [
        "# Splinting data into training and tests sets (One of the most important concepts in machine learning in general)\n",
        "\n",
        "Let's create a training and test set with our data"
      ],
      "metadata": {
        "id": "S7mN4jRS_PDa"
      }
    },
    {
      "cell_type": "code",
      "source": [
        "# Create train/test split\n",
        "\n",
        "train_split = int(0.8 * len(X))\n",
        "\n",
        "X_train, y_train = X[:train_split], y[:train_split]\n",
        "X_test, y_test = X[train_split:], y[train_split:]\n",
        "\n",
        "len(X_train), len(y_train), len(X_test), len(y_test)"
      ],
      "metadata": {
        "colab": {
          "base_uri": "https://localhost:8080/"
        },
        "id": "mPAYFAfqAfPW",
        "outputId": "967765ca-b1f1-4014-d820-b8ffa64c27b6"
      },
      "execution_count": 5,
      "outputs": [
        {
          "output_type": "execute_result",
          "data": {
            "text/plain": [
              "(40, 40, 10, 10)"
            ]
          },
          "metadata": {},
          "execution_count": 5
        }
      ]
    },
    {
      "cell_type": "markdown",
      "source": [
        "How might we better visualize our data ?\n",
        "\n",
        "This is where the data explorer's motto comes in !\n",
        "\n",
        "\"Visualize, Visualize, Visualize !\""
      ],
      "metadata": {
        "id": "7fZIbVKbBXar"
      }
    },
    {
      "cell_type": "code",
      "source": [
        "def plot_prediction(train_data=X_train,\n",
        "                    train_labels=y_train,\n",
        "                    test_data=X_test,\n",
        "                    test_labels=y_test,\n",
        "                    predictions=None):\n",
        "  \"\"\"\n",
        "  Plots training data, test data and compare predicitions.\n",
        "  \"\"\"\n",
        "\n",
        "  plt.figure(figsize=(10,7))\n",
        "\n",
        "  # Plot training data in blue\n",
        "\n",
        "  plt.scatter(train_data, train_labels, c=\"b\", s=4, label=\"Training data\")\n",
        "\n",
        "  # Plot test data in gree\n",
        "  plt.scatter(test_data, test_labels, c=\"g\", s=4, label= \"Testing data\")\n",
        "\n",
        "  if predictions is not None:\n",
        "    plt.scatter(test_data, predictions, c=\"r\", s=4, label=\"Predictions\")\n",
        "\n",
        "\n",
        "  # Show the legends\n",
        "\n",
        "  plt.legend(prop={\"size\": 14})"
      ],
      "metadata": {
        "id": "U__wqTHHBGOd"
      },
      "execution_count": 6,
      "outputs": []
    },
    {
      "cell_type": "code",
      "source": [
        "plot_prediction()"
      ],
      "metadata": {
        "colab": {
          "base_uri": "https://localhost:8080/",
          "height": 599
        },
        "id": "W65LaYMIBQDu",
        "outputId": "c9ea0dce-cab5-49c9-abe1-03004d10506f"
      },
      "execution_count": 7,
      "outputs": [
        {
          "output_type": "display_data",
          "data": {
            "text/plain": [
              "<Figure size 1000x700 with 1 Axes>"
            ],
            "image/png": "[encoded data removed]"
          },
          "metadata": {}
        }
      ]
    },
    {
      "cell_type": "markdown",
      "source": [
        "## 2. Build model\n",
        "\n",
        "Our first PyTorch model !\n",
        "\n",
        "\n",
        "What our model does:\n",
        "* Start with random values (weight, bias)\n",
        "* Look at training data and adjust the random values to better\n",
        "  represent (or get closer) to ideal values (the weight and bias values we used to create the data)\n",
        "\n",
        "How does it do so ?\n",
        "\n",
        "Through two main algorithms:\n",
        "\n",
        "1. Gradiant Descent - https://www.youtube.com/watch?v=IHZwWFHWa-w&ab_channel=3Blue1Brown\n",
        "2. Backpropagation - https://www.youtube.com/watch?v=Ilg3gGewQ5U&ab_channel=3Blue1Brown\n",
        "\n"
      ],
      "metadata": {
        "id": "d-7ljRjTDxKs"
      }
    },
    {
      "cell_type": "code",
      "source": [
        "# Create a linear regression model class\n",
        "\n",
        "class LinearRegressionModel(nn.Module): # <= lego building bricks of Neural Network in PyTorch\n",
        "    def __init__(self):\n",
        "      super().__init__()\n",
        "      self.weights = nn.Parameter(\n",
        "        torch.randn(\n",
        "          1,\n",
        "          requires_grad=True,\n",
        "          dtype=torch.float\n",
        "      ))\n",
        "      self.bias = nn.Parameter(\n",
        "          torch.randn(\n",
        "            1,\n",
        "            requires_grad=True,\n",
        "            dtype=torch.float\n",
        "      ))\n",
        "    # `forward()` method to define the computation in the model (you must overide it)\n",
        "    def forward(self, x: torch.Tensor) -> torch.Tensor: # <= \"x\" is the input data\n",
        "        return self.weights * x + self.bias # This is the linear regression formula"
      ],
      "metadata": {
        "id": "vD_O0BVREOlH"
      },
      "execution_count": 8,
      "outputs": []
    },
    {
      "cell_type": "markdown",
      "source": [
        "### PyTorch model building essentials\n",
        "\n",
        "* torch.nn - contains all of the building blocks for computational graph(another word for neural network which can be considered a computation graph)\n",
        "* torch.nn.Paramater -  What parameters should our model try and learn, often a PyTorch layer from torch.nn will set these for us\n",
        "* torch.nn.Module - Base class for all NN module, if you subclass it you should overide foward\n",
        "* torch.optim - This is where the optimizers in PyTorch live, they will help with gradiant descent\n",
        "* def foward() - All nn.Module subclasses require you to overwrite foward(), this method define what occur in the foward computation\n",
        "\n",
        "Resource:\n",
        "* PyTorch CheatSheet - https://pytorch.org/tutorials/beginner/ptcheat.html"
      ],
      "metadata": {
        "id": "Q4EZnZ-03dIz"
      }
    },
    {
      "cell_type": "markdown",
      "source": [
        "### Checking the content of our PyTorch model\n",
        "\n",
        "Now we have created a model let's see what is inside...\n",
        "\n",
        "We can check out our model parameters using `.parameters()`"
      ],
      "metadata": {
        "id": "5yxawWLI5G5n"
      }
    },
    {
      "cell_type": "code",
      "source": [
        "# Create a random seed\n",
        "torch.manual_seed(42)\n",
        "\n",
        "# Create an instance of the model\n",
        "model_0 = LinearRegressionModel()\n",
        "\n",
        "list(model_0.parameters())"
      ],
      "metadata": {
        "colab": {
          "base_uri": "https://localhost:8080/"
        },
        "id": "sl8qsj_T5yJs",
        "outputId": "7be912cf-a430-4e8f-d56e-752593b8b9e9"
      },
      "execution_count": 9,
      "outputs": [
        {
          "output_type": "execute_result",
          "data": {
            "text/plain": [
              "[Parameter containing:\n",
              " tensor([0.3367], requires_grad=True),\n",
              " Parameter containing:\n",
              " tensor([0.1288], requires_grad=True)]"
            ]
          },
          "metadata": {},
          "execution_count": 9
        }
      ]
    },
    {
      "cell_type": "code",
      "source": [
        "# List named parameters\n",
        "model_0.state_dict()"
      ],
      "metadata": {
        "colab": {
          "base_uri": "https://localhost:8080/"
        },
        "id": "Ee9npXLT78Zq",
        "outputId": "d2b2156e-dcf6-45eb-f7ac-9348bfb26559"
      },
      "execution_count": 10,
      "outputs": [
        {
          "output_type": "execute_result",
          "data": {
            "text/plain": [
              "OrderedDict([('weights', tensor([0.3367])), ('bias', tensor([0.1288]))])"
            ]
          },
          "metadata": {},
          "execution_count": 10
        }
      ]
    },
    {
      "cell_type": "code",
      "source": [
        "weight, bias"
      ],
      "metadata": {
        "colab": {
          "base_uri": "https://localhost:8080/"
        },
        "id": "cTL1S6T08NfO",
        "outputId": "79d28041-179d-4854-8b33-be6406b104af"
      },
      "execution_count": 11,
      "outputs": [
        {
          "output_type": "execute_result",
          "data": {
            "text/plain": [
              "(0.7, 0.3)"
            ]
          },
          "metadata": {},
          "execution_count": 11
        }
      ]
    },
    {
      "cell_type": "markdown",
      "source": [
        "### Making prediction using `torch.inference_mode()`\n",
        "\n",
        "To check out model predicting power let's see how well it predicts `y_test` based on `X_test`\n",
        "\n",
        "When we pass data to our model it it's going to run it through the `foward()` method"
      ],
      "metadata": {
        "id": "Vsz_aZCH8UpF"
      }
    },
    {
      "cell_type": "code",
      "source": [
        "X_test, y_test"
      ],
      "metadata": {
        "colab": {
          "base_uri": "https://localhost:8080/"
        },
        "id": "e7kqQGST9T0j",
        "outputId": "a4d560c5-c341-401b-90fe-8c5d55230bc9"
      },
      "execution_count": 12,
      "outputs": [
        {
          "output_type": "execute_result",
          "data": {
            "text/plain": [
              "(tensor([[0.8000],\n",
              "         [0.8200],\n",
              "         [0.8400],\n",
              "         [0.8600],\n",
              "         [0.8800],\n",
              "         [0.9000],\n",
              "         [0.9200],\n",
              "         [0.9400],\n",
              "         [0.9600],\n",
              "         [0.9800]]),\n",
              " tensor([[0.8600],\n",
              "         [0.8740],\n",
              "         [0.8880],\n",
              "         [0.9020],\n",
              "         [0.9160],\n",
              "         [0.9300],\n",
              "         [0.9440],\n",
              "         [0.9580],\n",
              "         [0.9720],\n",
              "         [0.9860]]))"
            ]
          },
          "metadata": {},
          "execution_count": 12
        }
      ]
    },
    {
      "cell_type": "code",
      "source": [
        "# Make predictions with model\n",
        "with torch.inference_mode(): #Context manager for making inference mode\n",
        "  y_preds = model_0(X_test)\n",
        "\n",
        "y_preds"
      ],
      "metadata": {
        "colab": {
          "base_uri": "https://localhost:8080/"
        },
        "id": "UfIzxKnp9H5B",
        "outputId": "4739a9fd-14f4-480c-9402-25f453e0d527"
      },
      "execution_count": 13,
      "outputs": [
        {
          "output_type": "execute_result",
          "data": {
            "text/plain": [
              "tensor([[0.3982],\n",
              "        [0.4049],\n",
              "        [0.4116],\n",
              "        [0.4184],\n",
              "        [0.4251],\n",
              "        [0.4318],\n",
              "        [0.4386],\n",
              "        [0.4453],\n",
              "        [0.4520],\n",
              "        [0.4588]])"
            ]
          },
          "metadata": {},
          "execution_count": 13
        }
      ]
    },
    {
      "cell_type": "markdown",
      "source": [
        "See more on inference here - https://twitter.com/PyTorch/status/1437838231505096708?s=20"
      ],
      "metadata": {
        "id": "kQ2lHwhzAa3C"
      }
    },
    {
      "cell_type": "code",
      "source": [
        "y_test"
      ],
      "metadata": {
        "colab": {
          "base_uri": "https://localhost:8080/"
        },
        "id": "-Oj6y93P9T52",
        "outputId": "f1624968-2d91-4b42-9097-737e2e5dfb3c"
      },
      "execution_count": 14,
      "outputs": [
        {
          "output_type": "execute_result",
          "data": {
            "text/plain": [
              "tensor([[0.8600],\n",
              "        [0.8740],\n",
              "        [0.8880],\n",
              "        [0.9020],\n",
              "        [0.9160],\n",
              "        [0.9300],\n",
              "        [0.9440],\n",
              "        [0.9580],\n",
              "        [0.9720],\n",
              "        [0.9860]])"
            ]
          },
          "metadata": {},
          "execution_count": 14
        }
      ]
    },
    {
      "cell_type": "code",
      "source": [
        "plot_prediction(predictions=y_preds)"
      ],
      "metadata": {
        "colab": {
          "base_uri": "https://localhost:8080/",
          "height": 599
        },
        "id": "gy4zvC5L--Ue",
        "outputId": "68b44446-90cf-45ad-d27f-d5632c878608"
      },
      "execution_count": 15,
      "outputs": [
        {
          "output_type": "display_data",
          "data": {
            "text/plain": [
              "<Figure size 1000x700 with 1 Axes>"
            ],
            "image/png": "[encoded data removed]"
          },
          "metadata": {}
        }
      ]
    },
    {
      "cell_type": "markdown",
      "source": [
        "## 3. Train model\n",
        "\n",
        "The whole idea of training is to move from some *unknown* parameters (these may be random) to some *known* parameters.\n",
        "\n",
        "Or in other words from a poor representation of the data to a better representation of the data.\n",
        "\n",
        "One way to mesure how poor or how wrong our model prediction are is to use a loss function.\n",
        "\n",
        "**Note** : *Loss function* may be called *cost function* or *criterion* in different areas. For our case we are going to refer to it as a loss function.\n",
        "\n",
        "Things we need to train:\n",
        "\n",
        "\n",
        "**Loss function:** A function to mesure how wrong our model predicition are to ideal output, lower is better.\n",
        "\n",
        "\n",
        "**Optimizer:** Take into account the loss and adjusts the model's parameters (e.g. weights and bias) in our case to improve the loss function.\n",
        "  * Inside the optimizer you'll often have to set to parameters:\n",
        "      * `params` - the model parameters you'd like to optimize for example `params=model_0.parameters()\n",
        "      * `lr`(learning rate) - the learning rate is an hyperparameter that define how big/small the optimizer changes the parameters with each step (a small `lr` results in small changes, a large `lr` results in large changes)\n",
        "\n",
        "\n",
        "And specificaly for PyTorch we need :\n",
        "* A training loop\n",
        "* A testing loop\n",
        "\n",
        "Resources :\n",
        "* Loss functions - https://pytorch.org/docs/stable/nn.html#loss-functions\n",
        "* Optimizers - https://pytorch.org/docs/stable/optim.html?highlight=optimizer#torch.optim.Optimizer"
      ],
      "metadata": {
        "id": "ghcLO6OG-6Rl"
      }
    },
    {
      "cell_type": "code",
      "source": [
        "# Check out our model's parameters(a parameter is a value that the model set itself)\n",
        "model_0.state_dict()"
      ],
      "metadata": {
        "colab": {
          "base_uri": "https://localhost:8080/"
        },
        "id": "UQh1W-Fy_kWQ",
        "outputId": "1019a693-98a9-4e1c-d4fd-969a3ba40263"
      },
      "execution_count": 16,
      "outputs": [
        {
          "output_type": "execute_result",
          "data": {
            "text/plain": [
              "OrderedDict([('weights', tensor([0.3367])), ('bias', tensor([0.1288]))])"
            ]
          },
          "metadata": {},
          "execution_count": 16
        }
      ]
    },
    {
      "cell_type": "code",
      "source": [
        "# Setup a loss function => How wrong our model his\n",
        "loss_fn = nn.L1Loss()\n",
        "\n",
        "# Setup an optimizer (stochastic gradiant descent) => Adjust paramaters to reduce loss\n",
        "optimizer = torch.optim.SGD(params=model_0.parameters(), lr=0.01) # lr = learning rate the most important hyperparameters in ML"
      ],
      "metadata": {
        "id": "jAIqj-SbBsg9"
      },
      "execution_count": 17,
      "outputs": []
    },
    {
      "cell_type": "markdown",
      "source": [
        "### Building a training loop (and a testing loop) in PyTorch\n",
        "\n",
        "A couple of things we need in a training loop\n",
        "\n",
        "0. Loop through the data\n",
        "1. Foward pass (this involves data moving through our model `forward()` functions to make prediction on data - also called forward propagation\n",
        "2. Calculate the loss (compare foward pass predicitons to ground truth labels)\n",
        "3. Optimizer zero grad\n",
        "4. Loss backward - move backwards through the network to calculate the gradients of each of the parameters with respect to the loss (**backpropagation** - https://www.youtube.com/watch?v=tIeHLnjs5U8)\n",
        "5. Optimizer step - use the optimizer to adjust our model parameters to adjust our model parameters to try and improve the loss(**gradiant descent** - https://youtu.be/IHZwWFHWa-w)"
      ],
      "metadata": {
        "id": "Hjrtc9mED-d1"
      }
    },
    {
      "cell_type": "code",
      "source": [
        "list(model_0.parameters())"
      ],
      "metadata": {
        "colab": {
          "base_uri": "https://localhost:8080/"
        },
        "id": "4KFq-8pzIiK9",
        "outputId": "7befbe1f-3a28-4a80-81eb-d3e8081b700a"
      },
      "execution_count": 18,
      "outputs": [
        {
          "output_type": "execute_result",
          "data": {
            "text/plain": [
              "[Parameter containing:\n",
              " tensor([0.3367], requires_grad=True),\n",
              " Parameter containing:\n",
              " tensor([0.1288], requires_grad=True)]"
            ]
          },
          "metadata": {},
          "execution_count": 18
        }
      ]
    },
    {
      "cell_type": "code",
      "source": [],
      "metadata": {
        "id": "1tl24W_KIwLd"
      },
      "execution_count": 18,
      "outputs": []
    },
    {
      "cell_type": "code",
      "source": [
        "# An epochs is one loop through the data (this is a hyperparameter) because we set them ourselfs\n",
        "epochs = 200\n",
        "\n",
        "#Tracking experiment\n",
        "epoch_count = []\n",
        "loss_values = []\n",
        "test_loss_values = []\n",
        "\n",
        "\n",
        "### Training\n",
        "# 0. Loop through the data\n",
        "for epoch in range(epochs):\n",
        "  # Set model in training mode\n",
        "  model_0.train() # train. mode in PyTorch sets all parameters that require gradients to require gradients\n",
        "\n",
        "  #1. Foward pass(Foward propagation)\n",
        "  y_pred = model_0.forward(X_train)\n",
        "\n",
        "  #2. Calculate the loss (how different are the model's predictions to the true values)\n",
        "  loss = loss_fn(y_pred, y_train)\n",
        "\n",
        "  #3. Optimizer zero grad (Zero the gradiants since they accumulate by default)\n",
        "  optimizer.zero_grad()\n",
        "\n",
        "  #4. Perform Backpropagation on the loss with respect to the parameters of the model\n",
        "  loss.backward()\n",
        "\n",
        "  #5. Step the optimizer (perform gradient descent)\n",
        "  optimizer.step() # by default how the optimizer changes will accumulate through the loop so ... we have to zero them above in step 3\n",
        "\n",
        "  ## Testing\n",
        "  model_0.eval() #turns off different settings in the model not needed for evaluation (dropout/batch norm layers)\n",
        "\n",
        "  with torch.inference_mode(): # This turns of gradiant tracking & couple of thing behind the scene (you might also see torch.no_grad() in older PyTorch Code)\n",
        "    # 1. Do the foward pass\n",
        "    test_pred = model_0.forward(X_test)\n",
        "\n",
        "    # 2. Calculate test lost\n",
        "    test_loss = loss_fn(test_pred, y_test)\n",
        "\n",
        "  if epoch % 10 == 0:\n",
        "    epoch_count.append(epoch)\n",
        "    loss_values.append(loss)\n",
        "    test_loss_values.append(test_loss)\n",
        "\n",
        "    # Print out what's happenin.....\n",
        "    print(f\"Epoch: {epoch} | Train Loss: {loss} | Test loss:{test_loss} |||| weight:{model_0.state_dict()['weights']} | bias: {model_0.state_dict()['bias']} \")"
      ],
      "metadata": {
        "id": "4HR8S0C_GkHN",
        "colab": {
          "base_uri": "https://localhost:8080/"
        },
        "outputId": "3f060d6e-7bdf-461e-cf17-cb6bd21cf9c6"
      },
      "execution_count": 19,
      "outputs": [
        {
          "output_type": "stream",
          "name": "stdout",
          "text": [
            "Epoch: 0 | Train Loss: 0.31288138031959534 | Test loss:0.48106518387794495 |||| weight:tensor([0.3406]) | bias: tensor([0.1388]) \n",
            "Epoch: 10 | Train Loss: 0.1976713240146637 | Test loss:0.3463551998138428 |||| weight:tensor([0.3796]) | bias: tensor([0.2388]) \n",
            "Epoch: 20 | Train Loss: 0.08908725529909134 | Test loss:0.21729660034179688 |||| weight:tensor([0.4184]) | bias: tensor([0.3333]) \n",
            "Epoch: 30 | Train Loss: 0.053148526698350906 | Test loss:0.14464017748832703 |||| weight:tensor([0.4512]) | bias: tensor([0.3768]) \n",
            "Epoch: 40 | Train Loss: 0.04543796554207802 | Test loss:0.11360953003168106 |||| weight:tensor([0.4748]) | bias: tensor([0.3868]) \n",
            "Epoch: 50 | Train Loss: 0.04167863354086876 | Test loss:0.09919948130846024 |||| weight:tensor([0.4938]) | bias: tensor([0.3843]) \n",
            "Epoch: 60 | Train Loss: 0.03818932920694351 | Test loss:0.08886633068323135 |||| weight:tensor([0.5116]) | bias: tensor([0.3788]) \n",
            "Epoch: 70 | Train Loss: 0.03476089984178543 | Test loss:0.0805937647819519 |||| weight:tensor([0.5288]) | bias: tensor([0.3718]) \n",
            "Epoch: 80 | Train Loss: 0.03132382780313492 | Test loss:0.07232122868299484 |||| weight:tensor([0.5459]) | bias: tensor([0.3648]) \n",
            "Epoch: 90 | Train Loss: 0.02788739837706089 | Test loss:0.06473556160926819 |||| weight:tensor([0.5629]) | bias: tensor([0.3573]) \n",
            "Epoch: 100 | Train Loss: 0.024458957836031914 | Test loss:0.05646304413676262 |||| weight:tensor([0.5800]) | bias: tensor([0.3503]) \n",
            "Epoch: 110 | Train Loss: 0.021020207554101944 | Test loss:0.04819049686193466 |||| weight:tensor([0.5972]) | bias: tensor([0.3433]) \n",
            "Epoch: 120 | Train Loss: 0.01758546568453312 | Test loss:0.04060482233762741 |||| weight:tensor([0.6141]) | bias: tensor([0.3358]) \n",
            "Epoch: 130 | Train Loss: 0.014155393466353416 | Test loss:0.03233227878808975 |||| weight:tensor([0.6313]) | bias: tensor([0.3288]) \n",
            "Epoch: 140 | Train Loss: 0.010716589167714119 | Test loss:0.024059748277068138 |||| weight:tensor([0.6485]) | bias: tensor([0.3218]) \n",
            "Epoch: 150 | Train Loss: 0.0072835334576666355 | Test loss:0.016474086791276932 |||| weight:tensor([0.6654]) | bias: tensor([0.3143]) \n",
            "Epoch: 160 | Train Loss: 0.0038517764769494534 | Test loss:0.008201557211577892 |||| weight:tensor([0.6826]) | bias: tensor([0.3073]) \n",
            "Epoch: 170 | Train Loss: 0.008932482451200485 | Test loss:0.005023092031478882 |||| weight:tensor([0.6951]) | bias: tensor([0.2993]) \n",
            "Epoch: 180 | Train Loss: 0.008932482451200485 | Test loss:0.005023092031478882 |||| weight:tensor([0.6951]) | bias: tensor([0.2993]) \n",
            "Epoch: 190 | Train Loss: 0.008932482451200485 | Test loss:0.005023092031478882 |||| weight:tensor([0.6951]) | bias: tensor([0.2993]) \n"
          ]
        }
      ]
    },
    {
      "cell_type": "code",
      "source": [
        "plt.plot(epoch_count, np.array(torch.tensor(loss_values).numpy()), label=\"Train loss\")\n",
        "plt.plot(epoch_count, test_loss_values, label=\"Test loss\")\n",
        "plt.title(\"Training an test loss curve\")\n",
        "plt.ylabel(\"Loss\")\n",
        "plt.xlabel(\"Epochs\")\n",
        "plt.legend()"
      ],
      "metadata": {
        "colab": {
          "base_uri": "https://localhost:8080/",
          "height": 490
        },
        "id": "9PMHbU85S4dy",
        "outputId": "494f49d8-37d5-4fda-d539-3ff43441b3e2"
      },
      "execution_count": 20,
      "outputs": [
        {
          "output_type": "execute_result",
          "data": {
            "text/plain": [
              "<matplotlib.legend.Legend at 0x7beb0bdc3fa0>"
            ]
          },
          "metadata": {},
          "execution_count": 20
        },
        {
          "output_type": "display_data",
          "data": {
            "text/plain": [
              "<Figure size 640x480 with 1 Axes>"
            ],
            "image/png": "[encoded data removed]"
          },
          "metadata": {}
        }
      ]
    },
    {
      "cell_type": "code",
      "source": [
        "with torch.inference_mode():\n",
        "  y_preds_new = model_0(X_test)"
      ],
      "metadata": {
        "id": "Wcz7t-qOLcPV"
      },
      "execution_count": 21,
      "outputs": []
    },
    {
      "cell_type": "code",
      "source": [
        "# Previous prediction (at the beginning)\n",
        "plot_prediction(predictions=y_preds)"
      ],
      "metadata": {
        "colab": {
          "base_uri": "https://localhost:8080/",
          "height": 599
        },
        "id": "Lylk8HkHNHPm",
        "outputId": "e8197901-304a-43ae-a8f7-5d02fea14982"
      },
      "execution_count": 22,
      "outputs": [
        {
          "output_type": "display_data",
          "data": {
            "text/plain": [
              "<Figure size 1000x700 with 1 Axes>"
            ],
            "image/png": "[encoded data removed]"
          },
          "metadata": {}
        }
      ]
    },
    {
      "cell_type": "code",
      "source": [
        "# Result after training for about 200 epochs\n",
        "plot_prediction(predictions=y_preds_new)"
      ],
      "metadata": {
        "colab": {
          "base_uri": "https://localhost:8080/",
          "height": 599
        },
        "id": "FzzF_k3kNM4V",
        "outputId": "634b413e-182f-48a0-fd1e-bccbbaa5ca46"
      },
      "execution_count": 23,
      "outputs": [
        {
          "output_type": "display_data",
          "data": {
            "text/plain": [
              "<Figure size 1000x700 with 1 Axes>"
            ],
            "image/png": "[encoded data removed]"
          },
          "metadata": {}
        }
      ]
    },
    {
      "cell_type": "markdown",
      "source": [
        "## Saving PyTorch Model\n",
        "\n",
        "There are three main methods you should know about saving and loading models in PyTorch.\n",
        "\n",
        "1. `torch.save()` - allows to save a PyTorch object into Python Pickle format\n",
        "2. `torch.load()` - load a saved PyTorch object\n",
        "3. `torch.nn.load_state_dict()`- this allows to load a model's saved state dictionary\n",
        "\n",
        "PyTorch save and load code tutorial - https://pytorch.org/tutorials/beginner/saving_loading_models.html"
      ],
      "metadata": {
        "id": "2bM7VvrUUy2i"
      }
    },
    {
      "cell_type": "code",
      "source": [
        "model_0.state_dict()"
      ],
      "metadata": {
        "colab": {
          "base_uri": "https://localhost:8080/"
        },
        "id": "S3a9bH-HsFVj",
        "outputId": "01b9d5a4-16cf-4199-81b3-bbc278130fe0"
      },
      "execution_count": 24,
      "outputs": [
        {
          "output_type": "execute_result",
          "data": {
            "text/plain": [
              "OrderedDict([('weights', tensor([0.6990])), ('bias', tensor([0.3093]))])"
            ]
          },
          "metadata": {},
          "execution_count": 24
        }
      ]
    },
    {
      "cell_type": "code",
      "source": [
        "## Saving out our PyTorch model\n",
        "from pathlib import Path\n",
        "\n",
        "# 1. Create models directory\n",
        "MODEL_PATH = Path(\"models\")\n",
        "MODEL_PATH.mkdir(parents=True, exist_ok=True)\n",
        "\n",
        "# 2. Create a model save path\n",
        "MODEL_NAME = \"01_pytorch_workflow_model_0.pth\"\n",
        "MODEL_SAVE_PATH = MODEL_PATH / MODEL_NAME\n",
        "\n",
        "# 3. Save the model state dict\n",
        "print(f\"Saving model to : {MODEL_SAVE_PATH}\")\n",
        "torch.save(obj=model_0.state_dict(), f=MODEL_SAVE_PATH)"
      ],
      "metadata": {
        "colab": {
          "base_uri": "https://localhost:8080/"
        },
        "id": "fd_GSVdEtSin",
        "outputId": "db89a452-24d2-4086-9b3b-514ebade7dd2"
      },
      "execution_count": 25,
      "outputs": [
        {
          "output_type": "stream",
          "name": "stdout",
          "text": [
            "Saving model to : models/01_pytorch_workflow_model_0.pth\n"
          ]
        }
      ]
    },
    {
      "cell_type": "code",
      "source": [
        "!ls -l models"
      ],
      "metadata": {
        "colab": {
          "base_uri": "https://localhost:8080/"
        },
        "id": "e2F6dJDfuvuS",
        "outputId": "21696aa5-6d6b-410a-b325-e9e28d2a9bde"
      },
      "execution_count": 26,
      "outputs": [
        {
          "output_type": "stream",
          "name": "stdout",
          "text": [
            "total 4\n",
            "-rw-r--r-- 1 root root 1207 Jul 14 19:28 01_pytorch_workflow_model_0.pth\n"
          ]
        }
      ]
    },
    {
      "cell_type": "code",
      "source": [
        "## Loading a PyTorch Model\n",
        "model_0.state_dict()"
      ],
      "metadata": {
        "colab": {
          "base_uri": "https://localhost:8080/"
        },
        "id": "D2dejlsNu0AZ",
        "outputId": "131c204a-5bc3-4d28-c520-2b97c9d2d5e4"
      },
      "execution_count": 27,
      "outputs": [
        {
          "output_type": "execute_result",
          "data": {
            "text/plain": [
              "OrderedDict([('weights', tensor([0.6990])), ('bias', tensor([0.3093]))])"
            ]
          },
          "metadata": {},
          "execution_count": 27
        }
      ]
    },
    {
      "cell_type": "code",
      "source": [
        "# Since we saved only the state dict we will create a new model an load the state dict into it\n",
        "loaded_model_0 = LinearRegressionModel()\n",
        "\n",
        "loaded_model_0.load_state_dict(torch.load(f=MODEL_SAVE_PATH))"
      ],
      "metadata": {
        "colab": {
          "base_uri": "https://localhost:8080/"
        },
        "id": "ABZ3bYQL0tF1",
        "outputId": "7cb6ee33-bf48-49dd-9a14-386346d14681"
      },
      "execution_count": 28,
      "outputs": [
        {
          "output_type": "execute_result",
          "data": {
            "text/plain": [
              "<All keys matched successfully>"
            ]
          },
          "metadata": {},
          "execution_count": 28
        }
      ]
    },
    {
      "cell_type": "code",
      "source": [
        "loaded_model_0.state_dict()"
      ],
      "metadata": {
        "colab": {
          "base_uri": "https://localhost:8080/"
        },
        "id": "63y3m1EG1a0R",
        "outputId": "b38555c3-379e-4c5c-d4ab-3ad187c52ed5"
      },
      "execution_count": 29,
      "outputs": [
        {
          "output_type": "execute_result",
          "data": {
            "text/plain": [
              "OrderedDict([('weights', tensor([0.6990])), ('bias', tensor([0.3093]))])"
            ]
          },
          "metadata": {},
          "execution_count": 29
        }
      ]
    },
    {
      "cell_type": "code",
      "source": [
        "# Make some predicitons with our loaded model\n",
        "model_0.eval()\n",
        "with torch.inference_mode():\n",
        "  y_preds = model_0(X_test)\n",
        "\n",
        "y_preds"
      ],
      "metadata": {
        "colab": {
          "base_uri": "https://localhost:8080/"
        },
        "id": "amzOE2u_14KO",
        "outputId": "4b8d0465-55a1-4e1b-a781-16c512c6b58c"
      },
      "execution_count": 30,
      "outputs": [
        {
          "output_type": "execute_result",
          "data": {
            "text/plain": [
              "tensor([[0.8685],\n",
              "        [0.8825],\n",
              "        [0.8965],\n",
              "        [0.9105],\n",
              "        [0.9245],\n",
              "        [0.9384],\n",
              "        [0.9524],\n",
              "        [0.9664],\n",
              "        [0.9804],\n",
              "        [0.9944]])"
            ]
          },
          "metadata": {},
          "execution_count": 30
        }
      ]
    },
    {
      "cell_type": "code",
      "source": [
        "# Make some predicitons with our loaded model\n",
        "loaded_model_0.eval()\n",
        "with torch.inference_mode():\n",
        "  loaded_model_preds = loaded_model_0(X_test)\n",
        "\n",
        "loaded_model_preds"
      ],
      "metadata": {
        "colab": {
          "base_uri": "https://localhost:8080/"
        },
        "id": "AopmvpWt1ex7",
        "outputId": "d01c5957-049c-4460-e317-8e845fa5c0ad"
      },
      "execution_count": 31,
      "outputs": [
        {
          "output_type": "execute_result",
          "data": {
            "text/plain": [
              "tensor([[0.8685],\n",
              "        [0.8825],\n",
              "        [0.8965],\n",
              "        [0.9105],\n",
              "        [0.9245],\n",
              "        [0.9384],\n",
              "        [0.9524],\n",
              "        [0.9664],\n",
              "        [0.9804],\n",
              "        [0.9944]])"
            ]
          },
          "metadata": {},
          "execution_count": 31
        }
      ]
    },
    {
      "cell_type": "code",
      "source": [
        "y_preds == loaded_model_preds # Both preds match so model is the same !"
      ],
      "metadata": {
        "colab": {
          "base_uri": "https://localhost:8080/"
        },
        "id": "NvVhnBaI1thC",
        "outputId": "d6f2209a-2f3a-4f0c-dfca-640a82d46a72"
      },
      "execution_count": 32,
      "outputs": [
        {
          "output_type": "execute_result",
          "data": {
            "text/plain": [
              "tensor([[True],\n",
              "        [True],\n",
              "        [True],\n",
              "        [True],\n",
              "        [True],\n",
              "        [True],\n",
              "        [True],\n",
              "        [True],\n",
              "        [True],\n",
              "        [True]])"
            ]
          },
          "metadata": {},
          "execution_count": 32
        }
      ]
    },
    {
      "cell_type": "markdown",
      "source": [
        "## 6. Putting it all together\n",
        "\n",
        "Let's go back through the steps above and see it all in one place"
      ],
      "metadata": {
        "id": "RbahpCs-2bwf"
      }
    },
    {
      "cell_type": "code",
      "source": [
        "# Import PyTorch and matplotlit\n",
        "import torch\n",
        "from torch import nn\n",
        "import matplotlib.pyplot as plt\n",
        "\n",
        "\n",
        "# Checkout PyTorch version\n",
        "torch.__version__"
      ],
      "metadata": {
        "colab": {
          "base_uri": "https://localhost:8080/",
          "height": 35
        },
        "id": "-z81BctE218C",
        "outputId": "3c355ad0-3f8e-4c2e-b9d5-2d228645f3e5"
      },
      "execution_count": 33,
      "outputs": [
        {
          "output_type": "execute_result",
          "data": {
            "text/plain": [
              "'2.0.1+cu118'"
            ],
            "application/vnd.google.colaboratory.intrinsic+json": {
              "type": "string"
            }
          },
          "metadata": {},
          "execution_count": 33
        }
      ]
    },
    {
      "cell_type": "markdown",
      "source": [
        "Create device agnostic code\n",
        "\n",
        "This means if we've got acess to a GPU our code will user it (Faster Compution)\n",
        "\n",
        "If no GPU is avaialbe the code will default to CPU"
      ],
      "metadata": {
        "id": "jfTEKcOD3i0w"
      }
    },
    {
      "cell_type": "code",
      "source": [
        "# Setup device agnostic code\n",
        "device = \"cuda\" if torch.cuda.is_available() else \"cpu\"\n",
        "print(f\"Using device: {device}\")"
      ],
      "metadata": {
        "colab": {
          "base_uri": "https://localhost:8080/"
        },
        "id": "bLJudGNg3xZS",
        "outputId": "a585fcf4-0288-45e0-c2d7-d543042cd7d2"
      },
      "execution_count": 35,
      "outputs": [
        {
          "output_type": "stream",
          "name": "stdout",
          "text": [
            "Using device:cuda\n"
          ]
        }
      ]
    },
    {
      "cell_type": "markdown",
      "source": [
        "### 6.1 Data"
      ],
      "metadata": {
        "id": "SbIPw3Pj2vZE"
      }
    },
    {
      "cell_type": "code",
      "source": [
        "# Create some data using the linear regression formula y = weight*X + bias\n",
        "weight = 0.7\n",
        "bias = 0.3\n",
        "\n",
        "# Create range value\n",
        "start = 0\n",
        "end = 1\n",
        "step = 0.02\n",
        "\n",
        "# Create X and y (features and lablels)\n",
        "X = torch.arange(start, end, step).unsqueeze(dim=1)\n",
        "y = weight * X + bias\n",
        "X[:10], y[:10]"
      ],
      "metadata": {
        "colab": {
          "base_uri": "https://localhost:8080/"
        },
        "id": "QZH4VFUj4hlj",
        "outputId": "1a098329-2f91-4fa0-f2e2-dda1991291aa"
      },
      "execution_count": 37,
      "outputs": [
        {
          "output_type": "execute_result",
          "data": {
            "text/plain": [
              "(tensor([[0.0000],\n",
              "         [0.0200],\n",
              "         [0.0400],\n",
              "         [0.0600],\n",
              "         [0.0800],\n",
              "         [0.1000],\n",
              "         [0.1200],\n",
              "         [0.1400],\n",
              "         [0.1600],\n",
              "         [0.1800]]),\n",
              " tensor([[0.3000],\n",
              "         [0.3140],\n",
              "         [0.3280],\n",
              "         [0.3420],\n",
              "         [0.3560],\n",
              "         [0.3700],\n",
              "         [0.3840],\n",
              "         [0.3980],\n",
              "         [0.4120],\n",
              "         [0.4260]]))"
            ]
          },
          "metadata": {},
          "execution_count": 37
        }
      ]
    },
    {
      "cell_type": "code",
      "source": [
        "# Split data\n",
        "\n",
        "train_split = int(0.8 * len(X))\n",
        "X_train, y_train = X[:train_split], y[:train_split]\n",
        "X_test, y_test = X[train_split:], y[train_split:]\n",
        "\n",
        "len(X_train), len(y_train), len(X_test), len(y_test)"
      ],
      "metadata": {
        "colab": {
          "base_uri": "https://localhost:8080/"
        },
        "id": "YnbroCO85hLZ",
        "outputId": "ec9abc90-7c63-4ac0-b3b4-09cf5bfcbe2b"
      },
      "execution_count": 38,
      "outputs": [
        {
          "output_type": "execute_result",
          "data": {
            "text/plain": [
              "(40, 40, 10, 10)"
            ]
          },
          "metadata": {},
          "execution_count": 38
        }
      ]
    },
    {
      "cell_type": "code",
      "source": [
        "# Plot the data\n",
        "plot_prediction(X_train, y_train, X_test, y_test)"
      ],
      "metadata": {
        "colab": {
          "base_uri": "https://localhost:8080/",
          "height": 599
        },
        "id": "Wp79KMmK57Yi",
        "outputId": "3fa17a6f-ca84-4891-f3b2-c6d26e4b46b9"
      },
      "execution_count": 39,
      "outputs": [
        {
          "output_type": "display_data",
          "data": {
            "text/plain": [
              "<Figure size 1000x700 with 1 Axes>"
            ],
            "image/png": "[encoded data removed]"
          },
          "metadata": {}
        }
      ]
    },
    {
      "cell_type": "markdown",
      "source": [
        "### 6.2 Building a PyTorch Linear Model"
      ],
      "metadata": {
        "id": "wK0VQkEY6PC8"
      }
    },
    {
      "cell_type": "code",
      "source": [
        "# Create a linear model by subclassing nn.Module\n",
        "\n",
        "class LinearRegressionModelV2(nn.Module):\n",
        "  def __init__(self):\n",
        "    super().__init__()\n",
        "    # Let's use torch linear layer using nn.Linear() / also called linear transform, fully connected layer, probing layer, dense layer\n",
        "    self.linear_layer = nn.Linear(\n",
        "        in_features=1, # In our data we have 1 feature or X\n",
        "        out_features=1 # In our data we have 1 feature of y\n",
        "    )\n",
        "\n",
        "  def forward(self, x: torch.Tensor) -> torch.Tensor :\n",
        "      return self.linear_layer(x)\n",
        "\n",
        "# Set the manual seed\n",
        "torch.manual_seed(42)\n",
        "\n",
        "# Create an instance of our model\n",
        "model_1 = LinearRegressionModelV2()\n",
        "model_1, model_1.state_dict()"
      ],
      "metadata": {
        "colab": {
          "base_uri": "https://localhost:8080/"
        },
        "id": "wml79OHB6kXB",
        "outputId": "695ab8ec-9117-4852-9848-c07e5d1679e0"
      },
      "execution_count": 43,
      "outputs": [
        {
          "output_type": "execute_result",
          "data": {
            "text/plain": [
              "(LinearRegressionModelV2(\n",
              "   (linear_layer): Linear(in_features=1, out_features=1, bias=True)\n",
              " ),\n",
              " OrderedDict([('linear_layer.weight', tensor([[0.7645]])),\n",
              "              ('linear_layer.bias', tensor([0.8300]))]))"
            ]
          },
          "metadata": {},
          "execution_count": 43
        }
      ]
    },
    {
      "cell_type": "code",
      "source": [
        "# Check the model current device\n",
        "next(model_1.parameters()).device"
      ],
      "metadata": {
        "colab": {
          "base_uri": "https://localhost:8080/"
        },
        "id": "Wgb5wNcx9LlJ",
        "outputId": "67bc89b9-29b4-4bf6-bca3-d43ffba7cf63"
      },
      "execution_count": 46,
      "outputs": [
        {
          "output_type": "execute_result",
          "data": {
            "text/plain": [
              "device(type='cpu')"
            ]
          },
          "metadata": {},
          "execution_count": 46
        }
      ]
    },
    {
      "cell_type": "code",
      "source": [
        "# Set the model to use the target device\n",
        "model_1.to(device)"
      ],
      "metadata": {
        "colab": {
          "base_uri": "https://localhost:8080/"
        },
        "id": "UVZOcLvn89O3",
        "outputId": "78814638-c7c4-441f-ba10-9c39b65cbea9"
      },
      "execution_count": 47,
      "outputs": [
        {
          "output_type": "execute_result",
          "data": {
            "text/plain": [
              "LinearRegressionModelV2(\n",
              "  (linear_layer): Linear(in_features=1, out_features=1, bias=True)\n",
              ")"
            ]
          },
          "metadata": {},
          "execution_count": 47
        }
      ]
    },
    {
      "cell_type": "code",
      "source": [
        "# Check the model current device again\n",
        "next(model_1.parameters()).device"
      ],
      "metadata": {
        "colab": {
          "base_uri": "https://localhost:8080/"
        },
        "outputId": "7113408a-df21-4592-876c-3ab43ef1eb7f",
        "id": "CBWf-LFC9YqM"
      },
      "execution_count": 48,
      "outputs": [
        {
          "output_type": "execute_result",
          "data": {
            "text/plain": [
              "device(type='cuda', index=0)"
            ]
          },
          "metadata": {},
          "execution_count": 48
        }
      ]
    },
    {
      "cell_type": "markdown",
      "source": [
        "### 6.3 Training\n",
        "\n",
        "For training we need :\n",
        "* Loss function : Mesure how wrong our model is.\n",
        "* Optimizer : Optimize params of our model.\n",
        "* Training loop\n",
        "* Testing loop"
      ],
      "metadata": {
        "id": "265eXcYY8fMC"
      }
    },
    {
      "cell_type": "code",
      "source": [
        "model_1.state_dict()"
      ],
      "metadata": {
        "colab": {
          "base_uri": "https://localhost:8080/"
        },
        "id": "08zkwGi59cFT",
        "outputId": "c2c22933-3d4c-4fd3-c29c-164b85307022"
      },
      "execution_count": 49,
      "outputs": [
        {
          "output_type": "execute_result",
          "data": {
            "text/plain": [
              "OrderedDict([('linear_layer.weight', tensor([[0.7645]], device='cuda:0')),\n",
              "             ('linear_layer.bias', tensor([0.8300], device='cuda:0'))])"
            ]
          },
          "metadata": {},
          "execution_count": 49
        }
      ]
    },
    {
      "cell_type": "code",
      "source": [
        "# Let's setup our loss function\n",
        "loss_fn = nn.L1Loss() #Same as MAE\n",
        "\n",
        "# Setup our optimizer\n",
        "optimizer = torch.optim.SGD(params=model_1.parameters(), lr=0.01)"
      ],
      "metadata": {
        "id": "wntkRmue97N7"
      },
      "execution_count": 50,
      "outputs": []
    },
    {
      "cell_type": "code",
      "source": [
        "# Let's write a training loop\n",
        "torch.manual_seed(42)\n",
        "\n",
        "epochs = 200\n",
        "\n",
        "\n",
        "# Put data on the target device (device agnostic code for data)\n",
        "\n",
        "X_train = X_train.to(device)\n",
        "y_train = y_train.to(device)\n",
        "X_test = X_test.to(device)\n",
        "y_test = y_test.to(device)\n",
        "\n",
        "\n",
        "for epoch in range(epochs):\n",
        "  model_1.train()\n",
        "\n",
        "  #1. Forward pass\n",
        "  y_pred = model_1(X_train)\n",
        "\n",
        "  #2. Calculate loss\n",
        "  loss = loss_fn(y_pred, y_train)\n",
        "\n",
        "  #3. Reset Gradients\n",
        "  optimizer.zero_grad()\n",
        "\n",
        "  #4. Perform backpropagation\n",
        "  loss.backward()\n",
        "\n",
        "  #5. Optimizer step\n",
        "  optimizer.step()\n",
        "\n",
        "\n",
        "  ## Testing\n",
        "  model_1.eval()\n",
        "  with torch.inference_mode():\n",
        "\n",
        "    test_pred = model_1(X_test)\n",
        "\n",
        "    test_loss = loss_fn(test_pred, y_test)\n",
        "\n",
        "  # Print out what is happening\n",
        "  if epoch % 10 == 0:\n",
        "    print(f\"Epoch:  {epoch} | Loss: {loss} | Test loss :{test_loss}\")\n",
        ""
      ],
      "metadata": {
        "colab": {
          "base_uri": "https://localhost:8080/"
        },
        "id": "bGSC4lGB-T74",
        "outputId": "53652f09-2282-4b58-e370-d01c2b3615bd"
      },
      "execution_count": 56,
      "outputs": [
        {
          "output_type": "stream",
          "name": "stdout",
          "text": [
            "Epoch:  0 | Loss: 0.0012645035749301314 | Test loss :0.013801801018416882\n",
            "Epoch:  10 | Loss: 0.0012645035749301314 | Test loss :0.013801801018416882\n",
            "Epoch:  20 | Loss: 0.0012645035749301314 | Test loss :0.013801801018416882\n",
            "Epoch:  30 | Loss: 0.0012645035749301314 | Test loss :0.013801801018416882\n",
            "Epoch:  40 | Loss: 0.0012645035749301314 | Test loss :0.013801801018416882\n",
            "Epoch:  50 | Loss: 0.0012645035749301314 | Test loss :0.013801801018416882\n",
            "Epoch:  60 | Loss: 0.0012645035749301314 | Test loss :0.013801801018416882\n",
            "Epoch:  70 | Loss: 0.0012645035749301314 | Test loss :0.013801801018416882\n",
            "Epoch:  80 | Loss: 0.0012645035749301314 | Test loss :0.013801801018416882\n",
            "Epoch:  90 | Loss: 0.0012645035749301314 | Test loss :0.013801801018416882\n",
            "Epoch:  100 | Loss: 0.0012645035749301314 | Test loss :0.013801801018416882\n",
            "Epoch:  110 | Loss: 0.0012645035749301314 | Test loss :0.013801801018416882\n",
            "Epoch:  120 | Loss: 0.0012645035749301314 | Test loss :0.013801801018416882\n",
            "Epoch:  130 | Loss: 0.0012645035749301314 | Test loss :0.013801801018416882\n",
            "Epoch:  140 | Loss: 0.0012645035749301314 | Test loss :0.013801801018416882\n",
            "Epoch:  150 | Loss: 0.0012645035749301314 | Test loss :0.013801801018416882\n",
            "Epoch:  160 | Loss: 0.0012645035749301314 | Test loss :0.013801801018416882\n",
            "Epoch:  170 | Loss: 0.0012645035749301314 | Test loss :0.013801801018416882\n",
            "Epoch:  180 | Loss: 0.0012645035749301314 | Test loss :0.013801801018416882\n",
            "Epoch:  190 | Loss: 0.0012645035749301314 | Test loss :0.013801801018416882\n"
          ]
        }
      ]
    },
    {
      "cell_type": "code",
      "source": [
        "model_1.state_dict()"
      ],
      "metadata": {
        "colab": {
          "base_uri": "https://localhost:8080/"
        },
        "id": "buLWOSTGAEQI",
        "outputId": "3c303b27-00bd-4bde-ff01-1233e441646b"
      },
      "execution_count": 57,
      "outputs": [
        {
          "output_type": "execute_result",
          "data": {
            "text/plain": [
              "OrderedDict([('linear_layer.weight', tensor([[0.6968]], device='cuda:0')),\n",
              "             ('linear_layer.bias', tensor([0.3025], device='cuda:0'))])"
            ]
          },
          "metadata": {},
          "execution_count": 57
        }
      ]
    },
    {
      "cell_type": "code",
      "source": [
        "weight, bias"
      ],
      "metadata": {
        "colab": {
          "base_uri": "https://localhost:8080/"
        },
        "id": "VbKcM252AIm1",
        "outputId": "9aab1500-bfed-476d-a3e9-8b2dad88f587"
      },
      "execution_count": 55,
      "outputs": [
        {
          "output_type": "execute_result",
          "data": {
            "text/plain": [
              "(0.7, 0.3)"
            ]
          },
          "metadata": {},
          "execution_count": 55
        }
      ]
    },
    {
      "cell_type": "markdown",
      "source": [
        "### 6.4 Making and evaluating predictions"
      ],
      "metadata": {
        "id": "2M3w3W_kAV5r"
      }
    },
    {
      "cell_type": "code",
      "source": [
        "# Turn model into evaluation mode\n",
        "model_1.eval()\n",
        "\n",
        "# Make predicitons on the test data\n",
        "\n",
        "with torch.inference_mode():\n",
        "  y_preds = model_1(X_test)\n",
        "y_preds"
      ],
      "metadata": {
        "colab": {
          "base_uri": "https://localhost:8080/"
        },
        "id": "gyT1YtB0A3CI",
        "outputId": "0fa9d032-e30a-4509-e653-e29856900438"
      },
      "execution_count": 60,
      "outputs": [
        {
          "output_type": "execute_result",
          "data": {
            "text/plain": [
              "tensor([[0.8600],\n",
              "        [0.8739],\n",
              "        [0.8878],\n",
              "        [0.9018],\n",
              "        [0.9157],\n",
              "        [0.9296],\n",
              "        [0.9436],\n",
              "        [0.9575],\n",
              "        [0.9714],\n",
              "        [0.9854]], device='cuda:0')"
            ]
          },
          "metadata": {},
          "execution_count": 60
        }
      ]
    },
    {
      "cell_type": "code",
      "source": [
        "# Check out our model predicitions visually\n",
        "\n",
        "plot_prediction(predictions=y_preds.cpu())"
      ],
      "metadata": {
        "colab": {
          "base_uri": "https://localhost:8080/",
          "height": 599
        },
        "id": "VnpzYa3UBDcM",
        "outputId": "5dbe0687-18d0-41aa-b69c-088a1e6b43ef"
      },
      "execution_count": 61,
      "outputs": [
        {
          "output_type": "display_data",
          "data": {
            "text/plain": [
              "<Figure size 1000x700 with 1 Axes>"
            ],
            "image/png": "[encoded data removed]"
          },
          "metadata": {}
        }
      ]
    },
    {
      "cell_type": "markdown",
      "source": [],
      "metadata": {
        "id": "_FDWa1ZVIIly"
      }
    },
    {
      "cell_type": "markdown",
      "source": [
        "### 6.5 Saving an loading a train model"
      ],
      "metadata": {
        "id": "t9q6qiKQIJCm"
      }
    },
    {
      "cell_type": "code",
      "source": [
        "## Saving model\n",
        "from pathlib import Path\n",
        "\n",
        "MODEL_PATH = Path(\"models\")\n",
        "MODEL_NAME = \"01_pytorch_workflow_model_1.pth\"\n",
        "MODEL_SAVE_PATH = MODEL_PATH / MODEL_NAME\n",
        "\n",
        "torch.save(obj=model_1.state_dict(),f=MODEL_SAVE_PATH)"
      ],
      "metadata": {
        "id": "paYEw0C2BlgI"
      },
      "execution_count": 65,
      "outputs": []
    },
    {
      "cell_type": "code",
      "source": [
        "# Loading a PyTorch model from file\n",
        "loaded_model_1 = LinearRegressionModelV2()\n",
        "\n",
        "# Load the save model state dict to model\n",
        "loaded_model_1.load_state_dict(torch.load(f=MODEL_SAVE_PATH))\n",
        "\n",
        "#Put the loaded model to the device\n",
        "loaded_model_1.to(device)"
      ],
      "metadata": {
        "colab": {
          "base_uri": "https://localhost:8080/"
        },
        "id": "FgtuJxr_Caz-",
        "outputId": "f14e5553-c29d-4408-d440-c132153d4a3c"
      },
      "execution_count": 69,
      "outputs": [
        {
          "output_type": "execute_result",
          "data": {
            "text/plain": [
              "LinearRegressionModelV2(\n",
              "  (linear_layer): Linear(in_features=1, out_features=1, bias=True)\n",
              ")"
            ]
          },
          "metadata": {},
          "execution_count": 69
        }
      ]
    },
    {
      "cell_type": "code",
      "source": [
        "next(loaded_model_1.parameters()).device"
      ],
      "metadata": {
        "colab": {
          "base_uri": "https://localhost:8080/"
        },
        "id": "aqL50EpGG-ak",
        "outputId": "d9e7faf5-2e2c-4a49-a7d9-57cfc5399439"
      },
      "execution_count": 70,
      "outputs": [
        {
          "output_type": "execute_result",
          "data": {
            "text/plain": [
              "device(type='cuda', index=0)"
            ]
          },
          "metadata": {},
          "execution_count": 70
        }
      ]
    },
    {
      "cell_type": "code",
      "source": [
        "loaded_model_1.state_dict()"
      ],
      "metadata": {
        "colab": {
          "base_uri": "https://localhost:8080/"
        },
        "id": "NPkv1HMxHuhu",
        "outputId": "cd82e761-27f7-49e1-a7ec-10bdeb07a530"
      },
      "execution_count": 71,
      "outputs": [
        {
          "output_type": "execute_result",
          "data": {
            "text/plain": [
              "OrderedDict([('linear_layer.weight', tensor([[0.6968]], device='cuda:0')),\n",
              "             ('linear_layer.bias', tensor([0.3025], device='cuda:0'))])"
            ]
          },
          "metadata": {},
          "execution_count": 71
        }
      ]
    },
    {
      "cell_type": "code",
      "source": [
        "# Evaluate loaded model\n",
        "loaded_model_1.eval()\\\n",
        "\n",
        "with torch.inference_mode():\n",
        "  loaded_model_1_preds = loaded_model_1(X_test)\n",
        "y_preds == loaded_model_1_preds"
      ],
      "metadata": {
        "colab": {
          "base_uri": "https://localhost:8080/"
        },
        "id": "ZcfG_LLGHxq6",
        "outputId": "ea23910b-31d2-4230-a9a9-04c28915d1ba"
      },
      "execution_count": 72,
      "outputs": [
        {
          "output_type": "execute_result",
          "data": {
            "text/plain": [
              "tensor([[True],\n",
              "        [True],\n",
              "        [True],\n",
              "        [True],\n",
              "        [True],\n",
              "        [True],\n",
              "        [True],\n",
              "        [True],\n",
              "        [True],\n",
              "        [True]], device='cuda:0')"
            ]
          },
          "metadata": {},
          "execution_count": 72
        }
      ]
    }
  ]
}