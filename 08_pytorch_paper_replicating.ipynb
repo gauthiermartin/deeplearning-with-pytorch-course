{
  "nbformat": 4,
  "nbformat_minor": 0,
  "metadata": {
    "colab": {
      "provenance": [],
      "gpuType": "T4",
      "authorship_tag": "ABX9TyPMiqa+QRynG0D7MRH6z2S7",
      "include_colab_link": true
    },
    "kernelspec": {
      "name": "python3",
      "display_name": "Python 3"
    },
    "language_info": {
      "name": "python"
    },
    "accelerator": "GPU"
  },
  "cells": [
    {
      "cell_type": "markdown",
      "metadata": {
        "id": "view-in-github",
        "colab_type": "text"
      },
      "source": [
        "<a href=\"https://colab.research.google.com/github/gauthiermartin/pytorch-deep-learning-course/blob/main/08_pytorch_paper_replicating.ipynb\" target=\"_parent\"><img src=\"https://colab.research.google.com/assets/colab-badge.svg\" alt=\"Open In Colab\"/></a>"
      ]
    },
    {
      "cell_type": "markdown",
      "source": [
        "# 08. PyTorch Paper Replicating\n",
        "\n",
        "Turn a ML research paper into usable code\n",
        "\n",
        "In this notebook we are going to be replicating the Vision Transformer (ViT)\n",
        "\n",
        "Paper - https://arxiv.org/abs/2010.11929v2\n",
        "\n"
      ],
      "metadata": {
        "id": "imYVkAV9CmdS"
      }
    },
    {
      "cell_type": "markdown",
      "source": [
        "# Anatomy of a research paper\n",
        "\n",
        "1. Abstract : An *overview/summary* of the paper\n",
        "2. Introduction: What is the paper's *main problem* ? And details of previous methods used to try and solve it.\n",
        "3. Method: What *steps did the researchers take* to solve the problem? (Example: Model, Datasource, training setup)\n",
        "4. Results: What are the *outcomes* of the paper? If a new type of model training setup was used how did the results compare to previous methods?\n",
        "5. Conclusion: What are the *limitations* of the suggested methods ? What are the *future work* ?\n",
        "6. References: What *resources/other papers* did the researchers use to build there own body of work?\n",
        "7. Appendix: Are there any *extra resources/findings* that were not mentioned in the above section of the paper?\n"
      ],
      "metadata": {
        "id": "L4V80dOtCtPM"
      }
    },
    {
      "cell_type": "markdown",
      "source": [
        "## Why replicate machine learning papers\n",
        "\n",
        "If you want the skills to be a Machine Learning Engineer here are the steps\n",
        "\n",
        "1. Download a paper\n",
        "2. Implement it\n",
        "3. Keep doing this until you have skills\n",
        "4. Build infrastructure around your models / data preprocessing steps"
      ],
      "metadata": {
        "id": "USM_kHBMFN2Y"
      }
    },
    {
      "cell_type": "markdown",
      "source": [
        "## Where can we find machine learning research paper\n",
        "\n",
        "- [arXiv](https://arxiv.org/)\n",
        "- [AK](https://twitter.com/_akhaliq)\n",
        "- [Paper With Code](https://paperswithcode.com/)\n",
        "- [ViT PyTorch](https://github.com/lucidrains/vit-pytorch)"
      ],
      "metadata": {
        "id": "4mbWMqVIFtqQ"
      }
    },
    {
      "cell_type": "markdown",
      "source": [
        "## What are we going to cover\n",
        "\n",
        "* Getting setup (importing previously written code)\n",
        "* Introduce a machien elarning paper replicating with PyTorch\n",
        "* Replicating ViT for FoodVisionMini\n",
        "* Training a custom ViWaitingForTextObjectMode\n",
        "* Feature Extraction with a pretrained ViT\n",
        "\n",
        "\n"
      ],
      "metadata": {
        "id": "4FOQqECnGPxV"
      }
    },
    {
      "cell_type": "markdown",
      "source": [
        "# 0. Get setup"
      ],
      "metadata": {
        "id": "joiH9NGWK99p"
      }
    },
    {
      "cell_type": "code",
      "source": [
        "# Continue with regular imports\n",
        "import matplotlib.pyplot as plt\n",
        "import torch\n",
        "import torchvision\n",
        "\n",
        "from torch import nn\n",
        "from torchvision import transforms\n",
        "\n",
        "# Try to get torchinfo, install it if it doesn't work\n",
        "try:\n",
        "    from torchinfo import summary\n",
        "except:\n",
        "    print(\"[INFO] Couldn't find torchinfo... installing it.\")\n",
        "    !pip install -q torchinfo\n",
        "    from torchinfo import summary\n",
        "\n",
        "# Try to import the going_modular directory, download it from GitHub if it doesn't work\n",
        "try:\n",
        "    from going_modular.going_modular import data_setup, engine\n",
        "    from helper_functions import download_data, set_seeds, plot_loss_curves\n",
        "except:\n",
        "    # Get the going_modular scripts\n",
        "    print(\"[INFO] Couldn't find going_modular or helper_functions scripts... downloading them from GitHub.\")\n",
        "    !git clone https://github.com/mrdbourke/pytorch-deep-learning\n",
        "    !mv pytorch-deep-learning/going_modular .\n",
        "    !mv pytorch-deep-learning/helper_functions.py . # get the helper_functions.py script\n",
        "    !rm -rf pytorch-deep-learning\n",
        "    from going_modular.going_modular import data_setup, engine\n",
        "    from helper_functions import download_data, set_seeds, plot_loss_curves"
      ],
      "metadata": {
        "colab": {
          "base_uri": "https://localhost:8080/"
        },
        "id": "acEqcQCkL0X_",
        "outputId": "09a877ef-ec2a-48bd-902e-235731b3d0ab"
      },
      "execution_count": 1,
      "outputs": [
        {
          "output_type": "stream",
          "name": "stdout",
          "text": [
            "[INFO] Couldn't find torchinfo... installing it.\n",
            "[INFO] Couldn't find going_modular or helper_functions scripts... downloading them from GitHub.\n",
            "Cloning into 'pytorch-deep-learning'...\n",
            "remote: Enumerating objects: 4033, done.\u001b[K\n",
            "remote: Counting objects: 100% (1224/1224), done.\u001b[K\n",
            "remote: Compressing objects: 100% (222/222), done.\u001b[K\n",
            "remote: Total 4033 (delta 1067), reused 1100 (delta 999), pack-reused 2809\u001b[K\n",
            "Receiving objects: 100% (4033/4033), 649.60 MiB | 39.23 MiB/s, done.\n",
            "Resolving deltas: 100% (2358/2358), done.\n",
            "Updating files: 100% (248/248), done.\n"
          ]
        }
      ]
    },
    {
      "cell_type": "code",
      "source": [
        "device = \"cuda\" if torch.cuda.is_available() else \"cpu\"\n",
        "device"
      ],
      "metadata": {
        "colab": {
          "base_uri": "https://localhost:8080/",
          "height": 35
        },
        "id": "aNMWovZ7MC-i",
        "outputId": "c510c64c-d47b-4da6-da9b-dac0e38f0381"
      },
      "execution_count": 2,
      "outputs": [
        {
          "output_type": "execute_result",
          "data": {
            "text/plain": [
              "'cuda'"
            ],
            "application/vnd.google.colaboratory.intrinsic+json": {
              "type": "string"
            }
          },
          "metadata": {},
          "execution_count": 2
        }
      ]
    },
    {
      "cell_type": "markdown",
      "source": [
        "# 1. Get Data\n",
        "\n",
        "The whole goal of what we are trying to do here is to replicate ViT for our FoodVision Mini problem"
      ],
      "metadata": {
        "id": "XJvH-094MODt"
      }
    },
    {
      "cell_type": "code",
      "source": [
        "# Download pizza, steak, sushi images from GitHub\n",
        "image_path = download_data(source=\"https://github.com/mrdbourke/pytorch-deep-learning/raw/main/data/pizza_steak_sushi.zip\",\n",
        "                           destination=\"pizza_steak_sushi\")\n",
        "image_path"
      ],
      "metadata": {
        "colab": {
          "base_uri": "https://localhost:8080/"
        },
        "id": "ljrMXUyNMGeE",
        "outputId": "f848a4ba-4a96-485d-a0ce-20e5ff8ec96c"
      },
      "execution_count": 3,
      "outputs": [
        {
          "output_type": "stream",
          "name": "stdout",
          "text": [
            "[INFO] Did not find data/pizza_steak_sushi directory, creating one...\n",
            "[INFO] Downloading pizza_steak_sushi.zip from https://github.com/mrdbourke/pytorch-deep-learning/raw/main/data/pizza_steak_sushi.zip...\n",
            "[INFO] Unzipping pizza_steak_sushi.zip data...\n"
          ]
        },
        {
          "output_type": "execute_result",
          "data": {
            "text/plain": [
              "PosixPath('data/pizza_steak_sushi')"
            ]
          },
          "metadata": {},
          "execution_count": 3
        }
      ]
    },
    {
      "cell_type": "code",
      "source": [
        "# Setup directory paths to train and test images\n",
        "train_dir = image_path / \"train\"\n",
        "test_dir = image_path / \"test\""
      ],
      "metadata": {
        "id": "4bohxZGMMRtV"
      },
      "execution_count": 4,
      "outputs": []
    }
  ]
}