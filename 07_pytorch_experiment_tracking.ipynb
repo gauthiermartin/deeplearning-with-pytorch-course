{
  "nbformat": 4,
  "nbformat_minor": 0,
  "metadata": {
    "colab": {
      "provenance": [],
      "gpuType": "T4",
      "authorship_tag": "ABX9TyMeJ5NMT1voAlC6K+VQg4ic",
      "include_colab_link": true
    },
    "kernelspec": {
      "name": "python3",
      "display_name": "Python 3"
    },
    "language_info": {
      "name": "python"
    },
    "accelerator": "GPU"
  },
  "cells": [
    {
      "cell_type": "markdown",
      "metadata": {
        "id": "view-in-github",
        "colab_type": "text"
      },
      "source": [
        "<a href=\"https://colab.research.google.com/github/gauthiermartin/pytorch-deep-learning-course/blob/main/07_pytorch_experiment_tracking.ipynb\" target=\"_parent\"><img src=\"https://colab.research.google.com/assets/colab-badge.svg\" alt=\"Open In Colab\"/></a>"
      ]
    },
    {
      "cell_type": "markdown",
      "source": [
        "# 07. PyTorch Experiment Tracking\n",
        "\n",
        "Machine learning is very experimental.\n",
        "\n",
        "In order to figure out which experiments are worth pursuing, that's where **experiments tracking** come in.\n",
        "\n",
        "In this notebook we will do this programmatically.\n",
        "\n",
        "\n",
        "- Book Version - https://www.learnpytorch.io/07_pytorch_experiment_tracking/\n",
        "- Made with ML - https://madewithml.com/courses/mlops/experiment-tracking/"
      ],
      "metadata": {
        "id": "YiUIRMbXoMAY"
      }
    },
    {
      "cell_type": "code",
      "source": [
        "import torch\n",
        "import torchvision\n",
        "\n",
        "print(torch.__version__)\n",
        "print(torchvision.__version__)"
      ],
      "metadata": {
        "colab": {
          "base_uri": "https://localhost:8080/"
        },
        "id": "XdALPVtQpzgF",
        "outputId": "30fbc4f5-c56a-478b-e169-11d81c7c2892"
      },
      "execution_count": 1,
      "outputs": [
        {
          "output_type": "stream",
          "name": "stdout",
          "text": [
            "2.0.1+cu118\n",
            "0.15.2+cu118\n"
          ]
        }
      ]
    },
    {
      "cell_type": "code",
      "source": [
        "# Continue with regular imports\n",
        "import matplotlib.pyplot as plt\n",
        "import torch\n",
        "import torchvision\n",
        "\n",
        "from torch import nn\n",
        "from torchvision import transforms\n",
        "\n",
        "# Try to get torchinfo, install it if it doesn't work\n",
        "try:\n",
        "    from torchinfo import summary\n",
        "except:\n",
        "    print(\"[INFO] Couldn't find torchinfo... installing it.\")\n",
        "    !pip install -q torchinfo\n",
        "    from torchinfo import summary\n",
        "\n",
        "# Try to import the going_modular directory, download it from GitHub if it doesn't work\n",
        "try:\n",
        "    from going_modular.going_modular import data_setup, engine\n",
        "except:\n",
        "    # Get the going_modular scripts\n",
        "    print(\"[INFO] Couldn't find going_modular scripts... downloading them from GitHub.\")\n",
        "    !git clone https://github.com/mrdbourke/pytorch-deep-learning\n",
        "    !mv pytorch-deep-learning/going_modular .\n",
        "    !rm -rf pytorch-deep-learning\n",
        "    from going_modular.going_modular import data_setup, engine"
      ],
      "metadata": {
        "colab": {
          "base_uri": "https://localhost:8080/"
        },
        "id": "EDTSVOo6p8RG",
        "outputId": "1954c172-a697-4d1f-f32d-e179f8e4e7a9"
      },
      "execution_count": 2,
      "outputs": [
        {
          "output_type": "stream",
          "name": "stdout",
          "text": [
            "[INFO] Couldn't find torchinfo... installing it.\n",
            "[INFO] Couldn't find going_modular scripts... downloading them from GitHub.\n",
            "Cloning into 'pytorch-deep-learning'...\n",
            "remote: Enumerating objects: 4028, done.\u001b[K\n",
            "remote: Counting objects: 100% (1216/1216), done.\u001b[K\n",
            "remote: Compressing objects: 100% (215/215), done.\u001b[K\n",
            "remote: Total 4028 (delta 1065), reused 1096 (delta 998), pack-reused 2812\u001b[K\n",
            "Receiving objects: 100% (4028/4028), 651.38 MiB | 23.49 MiB/s, done.\n",
            "Resolving deltas: 100% (2358/2358), done.\n",
            "Updating files: 100% (248/248), done.\n"
          ]
        }
      ]
    },
    {
      "cell_type": "code",
      "source": [
        "device = \"cuda\" if torch.cuda.is_available() else \"cpu\"\n",
        "device"
      ],
      "metadata": {
        "colab": {
          "base_uri": "https://localhost:8080/",
          "height": 35
        },
        "id": "Vq1a8UL9qOxZ",
        "outputId": "9963d983-4ad1-405f-b778-42add1d77ec1"
      },
      "execution_count": 3,
      "outputs": [
        {
          "output_type": "execute_result",
          "data": {
            "text/plain": [
              "'cuda'"
            ],
            "application/vnd.google.colaboratory.intrinsic+json": {
              "type": "string"
            }
          },
          "metadata": {},
          "execution_count": 3
        }
      ]
    },
    {
      "cell_type": "code",
      "source": [
        "# Set seeds\n",
        "def set_seeds(seed: int=42):\n",
        "    \"\"\"Sets random sets for torch operations.\n",
        "\n",
        "    Args:\n",
        "        seed (int, optional): Random seed to set. Defaults to 42.\n",
        "    \"\"\"\n",
        "    # Set the seed for general torch operations\n",
        "    torch.manual_seed(seed)\n",
        "    # Set the seed for CUDA torch operations (ones that happen on the GPU)\n",
        "    torch.cuda.manual_seed(seed)"
      ],
      "metadata": {
        "id": "QwhiuJZOqVTb"
      },
      "execution_count": 4,
      "outputs": []
    },
    {
      "cell_type": "code",
      "source": [
        "set_seeds()\n"
      ],
      "metadata": {
        "id": "DT-q_OKqqvEV"
      },
      "execution_count": 5,
      "outputs": []
    },
    {
      "cell_type": "markdown",
      "source": [
        "# 1. Get Data\n",
        "\n",
        "Want to get pizza, steak and sushi images.\n",
        "\n",
        "So we can run experiments building FoodMiniVision model on them."
      ],
      "metadata": {
        "id": "48cs0GiyqYHb"
      }
    },
    {
      "cell_type": "code",
      "source": [
        "import os\n",
        "import zipfile\n",
        "import requests\n",
        "\n",
        "from pathlib import Path\n",
        "\n",
        "def download_data(\n",
        "    source: str,\n",
        "    destination: str,\n",
        "    remove_source: bool = True\n",
        ") -> Path:\n",
        "  \"\"\"\n",
        "  Downloads a zipped dataset from source and unzips to destination.\n",
        "\n",
        "  Args:\n",
        "      source (str): A link to a zipped file containing data.\n",
        "      destination (str): A target directory to unzip data to.\n",
        "      remove_source (bool): Whether to remove the source after downloading and extracting.\n",
        "\n",
        "  Returns:\n",
        "      pathlib.Path to downloaded data.\n",
        "\n",
        "  Example usage:\n",
        "      download_data(source=\"https://github.com/mrdbourke/pytorch-deep-learning/raw/main/data/pizza_steak_sushi.zip\",\n",
        "                    destination=\"pizza_steak_sushi\")\n",
        "  \"\"\"\n",
        "\n",
        "  # Setup path to data folder\n",
        "  data_path = Path(\"data/\")\n",
        "  image_path = data_path / destination\n",
        "\n",
        "  # If the image folder doesn't exist, create it\n",
        "  if image_path.is_dir():\n",
        "    print(f\"[INFO] {destination} folder already exists. skipping download\")\n",
        "  else:\n",
        "    print(f\"[INFO] Creating {destination} folder.\")\n",
        "    image_path.mkdir(parents=True, exist_ok=True)\n",
        "\n",
        "  # Download target data\n",
        "  target_file = Path(source).name\n",
        "\n",
        "  with open(data_path / target_file, \"wb\") as f:\n",
        "    print(f\"[INFO] Downloading {target_file}...\")\n",
        "    response = requests.get(source)\n",
        "    f.write(response.content)\n",
        "\n",
        "  # Unzip target file\n",
        "  with zipfile.ZipFile(data_path / target_file, \"r\") as zip_ref:\n",
        "    print(f\"[INFO] Unzipping {target_file} data...\")\n",
        "    zip_ref.extractall(image_path)\n",
        "\n",
        "  # Remove source file\n",
        "  if remove_source:\n",
        "    print(f\"[INFO] Removing {target_file}...\")\n",
        "    os.remove(data_path / target_file)\n",
        "\n",
        "  return image_path\n"
      ],
      "metadata": {
        "id": "MogtgyxzrWum"
      },
      "execution_count": 11,
      "outputs": []
    },
    {
      "cell_type": "code",
      "source": [
        "image_path = download_data(\n",
        "              source=\"https://github.com/mrdbourke/pytorch-deep-learning/raw/main/data/pizza_steak_sushi.zip\",\n",
        "              destination=\"pizza_steak_sushi\"\n",
        ")\n",
        "image_path"
      ],
      "metadata": {
        "colab": {
          "base_uri": "https://localhost:8080/"
        },
        "id": "AobzyV9VtJSB",
        "outputId": "c0e2d014-84eb-45a5-a2cf-f09e72710711"
      },
      "execution_count": 13,
      "outputs": [
        {
          "output_type": "stream",
          "name": "stdout",
          "text": [
            "[INFO] pizza_steak_sushi folder already exists. skipping download\n",
            "[INFO] Downloading pizza_steak_sushi.zip...\n",
            "[INFO] Unzipping pizza_steak_sushi.zip data...\n",
            "[INFO] Removing pizza_steak_sushi.zip...\n"
          ]
        },
        {
          "output_type": "execute_result",
          "data": {
            "text/plain": [
              "PosixPath('data/pizza_steak_sushi')"
            ]
          },
          "metadata": {},
          "execution_count": 13
        }
      ]
    }
  ]
}